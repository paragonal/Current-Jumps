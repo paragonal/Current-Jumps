{
 "cells": [
  {
   "cell_type": "code",
   "execution_count": 4,
   "metadata": {
    "collapsed": true
   },
   "outputs": [
    {
     "name": "stdout",
     "output_type": "stream",
     "text": [
      "Generating pairs\n"
     ]
    },
    {
     "name": "stderr",
     "output_type": "stream",
     "text": [
      "100%|██████████| 199/199 [00:00<?, ?it/s]\n"
     ]
    },
    {
     "name": "stdout",
     "output_type": "stream",
     "text": [
      "Evaluating pairs\n"
     ]
    },
    {
     "name": "stderr",
     "output_type": "stream",
     "text": [
      "100%|██████████| 20099/20099 [00:00<00:00, 633325.44it/s]\n",
      "C:\\Users\\sfska\\AppData\\Local\\Temp\\ipykernel_15652\\1029499567.py:23: VisibleDeprecationWarning: Creating an ndarray from ragged nested sequences (which is a list-or-tuple of lists-or-tuples-or ndarrays with different lengths or shapes) is deprecated. If you meant to do this, you must specify 'dtype=object' when creating the ndarray.\n",
      "  ordered = np.array(ordered[:6000]) # take the first 6000 energy levels\n"
     ]
    }
   ],
   "source": [
    "import numpy as np\n",
    "import matplotlib.pyplot as plt\n",
    "from math import *\n",
    "from tqdm import tqdm\n",
    "hbar = 1.05457182e-34\n",
    "k_b = 1.380649e-23 #m^2 kg/s^2/K\n",
    "v_f = 1e6\n",
    "dos_slope = 2/pi/hbar**2/v_f**2\n",
    "m_e = 9.1093837e-31\n",
    "R = 6e-8\n",
    "pairs = []\n",
    "\n",
    "print(\"Generating pairs\")\n",
    "N_max = 200\n",
    "for i in tqdm(range(1,N_max)):\n",
    "    for j in range(i+1):\n",
    "        pairs.append((i,j))\n",
    "\n",
    "print(\"Evaluating pairs\")\n",
    "vals = [p[0]**2 + p[1]**2 for p in tqdm(pairs)]\n",
    "ordered = list(zip(vals, pairs))\n",
    "ordered.sort()\n",
    "ordered = np.array(ordered[:6000]) # take the first 6000 energy levels"
   ]
  },
  {
   "cell_type": "code",
   "execution_count": 5,
   "outputs": [
    {
     "name": "stderr",
     "output_type": "stream",
     "text": [
      "100%|██████████| 6000/6000 [00:00<00:00, 383029.80it/s]\n"
     ]
    },
    {
     "data": {
      "text/plain": "<Figure size 432x288 with 1 Axes>",
      "image/png": "[encoded data removed]"
     },
     "metadata": {
      "needs_background": "light"
     },
     "output_type": "display_data"
    }
   ],
   "source": [
    "%matplotlib inline\n",
    "plt.plot([2*pi*hbar*v_f/R*sqrt(o)/1.6e-19 for o in tqdm(ordered[:,0])])\n",
    "plt.title(\"Energy Levels in Graphene\")\n",
    "plt.xlabel(\"N\")\n",
    "plt.ylabel(\"Energy (eV)\")\n",
    "plt.savefig(\"graphs/energy levels in graphene\")\n",
    "plt.show()"
   ],
   "metadata": {
    "collapsed": false,
    "pycharm": {
     "name": "#%%\n"
    }
   }
  },
  {
   "cell_type": "code",
   "execution_count": 9,
   "outputs": [
    {
     "name": "stdout",
     "output_type": "stream",
     "text": [
      "Building bessel function lookup table\n"
     ]
    },
    {
     "name": "stderr",
     "output_type": "stream",
     "text": [
      "100%|██████████| 200/200 [00:01<00:00, 138.28it/s]\n"
     ]
    },
    {
     "name": "stdout",
     "output_type": "stream",
     "text": [
      "Evaluating pairs for analytic solution\n"
     ]
    },
    {
     "name": "stderr",
     "output_type": "stream",
     "text": [
      "100%|██████████| 20099/20099 [00:00<00:00, 306719.77it/s]\n",
      "100%|██████████| 6000/6000 [00:00<00:00, 383321.51it/s]\n"
     ]
    },
    {
     "data": {
      "text/plain": "<Figure size 432x288 with 1 Axes>",
      "image/png": "[encoded data removed]"
     },
     "metadata": {
      "needs_background": "light"
     },
     "output_type": "display_data"
    }
   ],
   "source": [
    "from scipy.special import jn_zeros\n",
    "\n",
    "print(\"Building bessel function lookup table\")\n",
    "js = [jn_zeros(i, 200) for i in tqdm(range(200))]\n",
    "print(\"Evaluating pairs for analytic solution\")\n",
    "energies = []\n",
    "for n, l in tqdm(pairs):\n",
    "    energies.append(hbar**2/2/m_e/R**2/1.6e-19 * js[l-1][n]**2)\n",
    "\n",
    "energies.sort()\n",
    "\n",
    "plt.plot(energies[:6000])\n",
    "plt.plot([2*pi*hbar*v_f/R*sqrt(o)/1.6e-19 for o in tqdm(ordered[:,0])])\n",
    "plt.title(\"Energy Levels in Graphene\")\n",
    "plt.xlabel(\"N\")\n",
    "plt.ylabel(\"Energy (eV)\")\n",
    "plt.show()"
   ],
   "metadata": {
    "collapsed": false,
    "pycharm": {
     "name": "#%%\n"
    }
   }
  },
  {
   "cell_type": "code",
   "execution_count": null,
   "outputs": [],
   "source": [],
   "metadata": {
    "collapsed": false,
    "pycharm": {
     "name": "#%%\n"
    }
   }
  }
 ],
 "metadata": {
  "kernelspec": {
   "display_name": "Python 3",
   "language": "python",
   "name": "python3"
  },
  "language_info": {
   "codemirror_mode": {
    "name": "ipython",
    "version": 2
   },
   "file_extension": ".py",
   "mimetype": "text/x-python",
   "name": "python",
   "nbconvert_exporter": "python",
   "pygments_lexer": "ipython2",
   "version": "2.7.6"
  }
 },
 "nbformat": 4,
 "nbformat_minor": 0
}