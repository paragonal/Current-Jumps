{
 "cells": [
  {
   "cell_type": "code",
   "execution_count": 8,
   "metadata": {
    "collapsed": true
   },
   "outputs": [
    {
     "name": "stdout",
     "output_type": "stream",
     "text": [
      "Charging energy upper bound = 9.37688092688412 meV\n"
     ]
    }
   ],
   "source": [
    "import numpy as np\n",
    "import matplotlib.pyplot as plt\n",
    "from math import *\n",
    "from tqdm import tqdm\n",
    "from scipy.special import jn_zeros\n",
    "from scipy.optimize import curve_fit\n",
    "\n",
    "hbar = 1.05457182e-34\n",
    "k_b = 1.380649e-23 #m^2 kg/s^2/K\n",
    "v_f = 1e6\n",
    "dos_slope = 1/pi/hbar**2/v_f**2\n",
    "m_e = 9.1093837e-31\n",
    "R = 5e-8\n",
    "q_e = 1.602e-19\n",
    "eps_0 = 8.854e-12\n",
    "eps_SiC = 9.66 # https://www.microwaves101.com/encyclopedias/silicon-carbide\n",
    "\n",
    "def disk_capacitance(R, eps_r):\n",
    "    return 8*eps_r*eps_0*R\n",
    "\n",
    "\n",
    "\n",
    "capacitance = (disk_capacitance(R, eps_SiC) + disk_capacitance(R, eps_0))/2 # average capacitances\n",
    "charging_energy = q_e**2 / capacitance / 1.6e-19 #ev\n",
    "\n",
    "print(\"Charging energy upper bound = {} meV\".format(charging_energy*1000))"
   ]
  }
 ],
 "metadata": {
  "kernelspec": {
   "display_name": "Python 3",
   "language": "python",
   "name": "python3"
  },
  "language_info": {
   "codemirror_mode": {
    "name": "ipython",
    "version": 2
   },
   "file_extension": ".py",
   "mimetype": "text/x-python",
   "name": "python",
   "nbconvert_exporter": "python",
   "pygments_lexer": "ipython2",
   "version": "2.7.6"
  }
 },
 "nbformat": 4,
 "nbformat_minor": 0
}