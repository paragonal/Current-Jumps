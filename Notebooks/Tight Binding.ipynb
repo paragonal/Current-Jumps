{
 "cells": [
  {
   "cell_type": "code",
   "execution_count": 42,
   "metadata": {
    "collapsed": true
   },
   "outputs": [
    {
     "data": {
      "text/plain": "<Figure size 432x288 with 1 Axes>",
      "image/png": "[encoded data removed]"
     },
     "metadata": {
      "needs_background": "light"
     },
     "output_type": "display_data"
    }
   ],
   "source": [
    "import numpy as np\n",
    "from math import *\n",
    "from numpy.linalg import eigh\n",
    "import matplotlib.pyplot as plt\n",
    "\n",
    "N = 100\n",
    "t = e\n",
    "eps = 0\n",
    "mat = np.diag(-t*np.ones(N-1), 1) + np.diag(-t*np.ones(N-1), -1) + np.diag(eps*np.ones(N))\n",
    "# mat += np.diag([-t], -(N-1)) + np.diag([-t], N-1)\n",
    "vals = eigh(mat)[0]/t\n",
    "plt.scatter([i for i in range(len(vals))],vals, s=2)\n",
    "mat += np.diag([-t], -(N-1)) + np.diag([-t], N-1)\n",
    "vals = eigh(mat)[0]/t\n",
    "plt.scatter([i for i in range(len(vals))],vals, s=2)\n",
    "plt.show()"
   ]
  },
  {
   "cell_type": "code",
   "execution_count": 26,
   "outputs": [
    {
     "data": {
      "text/plain": "array([[0, 0, 0, 0, 0, 0],\n       [0, 0, 0, 0, 0, 0],\n       [0, 0, 0, 0, 0, 0],\n       [0, 0, 0, 0, 0, 0],\n       [0, 0, 0, 0, 0, 0],\n       [1, 0, 0, 0, 0, 0]])"
     },
     "execution_count": 26,
     "metadata": {},
     "output_type": "execute_result"
    }
   ],
   "source": [
    "np.diag([1], -5)"
   ],
   "metadata": {
    "collapsed": false,
    "pycharm": {
     "name": "#%%\n"
    }
   }
  }
 ],
 "metadata": {
  "kernelspec": {
   "display_name": "Python 3",
   "language": "python",
   "name": "python3"
  },
  "language_info": {
   "codemirror_mode": {
    "name": "ipython",
    "version": 2
   },
   "file_extension": ".py",
   "mimetype": "text/x-python",
   "name": "python",
   "nbconvert_exporter": "python",
   "pygments_lexer": "ipython2",
   "version": "2.7.6"
  }
 },
 "nbformat": 4,
 "nbformat_minor": 0
}