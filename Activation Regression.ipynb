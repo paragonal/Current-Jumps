{
 "cells": [
  {
   "cell_type": "code",
   "execution_count": null,
   "outputs": [],
   "source": [
    "import pandas as pd\n",
    "import numpy as np\n",
    "import matplotlib.pyplot as plt\n",
    "from itertools import permutations\n",
    "\n",
    "file = \"R1B9_R-vs-T.xlsx\"\n",
    "sheet_name = \"R_vs_T_R1B92_0T_5mV\"\n",
    "df = pd.read_excel(file, sheet_name=sheet_name)"
   ],
   "metadata": {
    "collapsed": false,
    "pycharm": {
     "name": "#%%\n"
    }
   }
  },
  {
   "cell_type": "code",
   "execution_count": null,
   "outputs": [],
   "source": [
    "# filter out negative current samples for regression to work\n",
    "df = df.query(\"Current > 0\")\n",
    "temps = df[\"Temp\"]\n",
    "currents = df[\"Current\"]\n",
    "k_b = 1.3807e-23"
   ],
   "metadata": {
    "collapsed": false,
    "pycharm": {
     "name": "#%%\n"
    }
   }
  },
  {
   "cell_type": "code",
   "execution_count": null,
   "outputs": [],
   "source": [
    "from math import log\n",
    "%matplotlib inline\n",
    "log_normed_current = [log(currents[0]/i) for i in currents]\n",
    "inv_temp = [1/(k_b*t) for t in temps]\n",
    "plt.plot(inv_temp, log_normed_current)\n",
    "plt.title(\"Activation energy is slope\")\n",
    "plt.xlabel(\"$1/k_bT$\")\n",
    "plt.ylabel(\"$log(\\\\frac{I}{I_0})$\")\n",
    "plt.show()\n",
    "\n",
    "slope_df = pd.DataFrame({\"Reciptemp\":inv_temp, \"Log normed\": log_normed_current})\n",
    "filtered = slope_df.query(\"Reciptemp < 3.57e21\")\n",
    "log_normed_current = filtered['Log normed']\n",
    "inv_temp = filtered['Reciptemp']\n",
    "\n",
    "plt.plot(inv_temp, log_normed_current)\n",
    "plt.title(\"Activation energy is slope\")\n",
    "plt.xlabel(\"$1/k_bT$\")\n",
    "plt.ylabel(\"$log(\\\\frac{I}{I_0})$\")\n",
    "plt.show()"
   ],
   "metadata": {
    "collapsed": false,
    "pycharm": {
     "name": "#%%\n"
    }
   }
  },
  {
   "cell_type": "code",
   "execution_count": null,
   "outputs": [],
   "source": [
    "E_a, b = np.polyfit(inv_temp, log_normed_current,1)\n",
    "plt.plot(inv_temp, log_normed_current)\n",
    "plt.title(\"Activation energy is slope\")\n",
    "plt.xlabel(\"$1/k_bT$\")\n",
    "plt.ylabel(\"$log(\\\\frac{I}{I_0})$\")\n",
    "\n",
    "plt.plot(inv_temp, [i * E_a + b for i in inv_temp])\n",
    "plt.show()\n"
   ],
   "metadata": {
    "collapsed": false,
    "pycharm": {
     "name": "#%%\n"
    }
   }
  },
  {
   "cell_type": "code",
   "execution_count": null,
   "outputs": [],
   "source": [
    "from math import exp\n",
    "\n",
    "filtered = df.query(\"Temp < 10\")\n",
    "temps = list(filtered['Temp'])\n",
    "currents = list(filtered['Current'])\n",
    "\n",
    "plt.figure(figsize=(10,6))\n",
    "plt.title(\"Predicted Current\")\n",
    "plt.plot(temps,currents, label=\"Observed\")\n",
    "plt.xlabel(\"temperature\")\n",
    "plt.ylabel(\"current\")\n",
    "\n",
    "\n",
    "\n",
    "predicted_currs = [currents[0] * exp(-E_a/(k_b*t)) for t in temps]\n",
    "plt.plot(temps,predicted_currs, label=\"Observed\")\n",
    "plt.show()"
   ],
   "metadata": {
    "collapsed": false,
    "pycharm": {
     "name": "#%%\n"
    }
   }
  },
  {
   "cell_type": "code",
   "execution_count": null,
   "outputs": [],
   "source": [
    "file = \"R1B9_R-vs-T.xlsx\"\n",
    "sheet_name=\"R_vs_T_R1B92_0T_5mV\"\n",
    "df = pd.read_excel(file, sheet_name=sheet_name)\n",
    "temp, current, voltage = df[\"Temp\"], df[\"Current\"], df[\"Voltage\"]"
   ],
   "metadata": {
    "collapsed": false,
    "pycharm": {
     "name": "#%%\n"
    }
   }
  },
  {
   "cell_type": "code",
   "execution_count": null,
   "outputs": [],
   "source": [
    "conductance = current/voltage\n",
    "plt.plot(conductance,temp)\n",
    "plt.xlabel(\"Conductance\")\n",
    "plt.ylabel(\"Temp\")\n",
    "plt.show()"
   ],
   "metadata": {
    "collapsed": false,
    "pycharm": {
     "name": "#%%\n"
    }
   }
  },
  {
   "cell_type": "code",
   "execution_count": 13,
   "outputs": [
    {
     "data": {
      "text/plain": "Text(0, 0.5, 'Conductance')"
     },
     "execution_count": 13,
     "metadata": {},
     "output_type": "execute_result"
    },
    {
     "data": {
      "text/plain": "<Figure size 720x432 with 2 Axes>",
      "image/png": "[encoded data removed]"
     },
     "metadata": {
      "needs_background": "light"
     },
     "output_type": "display_data"
    }
   ],
   "source": [
    "from scipy.optimize import curve_fit\n",
    "def plot_IV_curve_simple(file, sheet_name, axs=None, silent=False):\n",
    "    \"\"\"\n",
    "    :param file: Name of the file to read from\n",
    "    :param sheet_name: Name of the sheet in the file\n",
    "    :param axs: Optional argument with axs to plot on\n",
    "    \"\"\"\n",
    "    df = pd.read_excel(file, sheet_name=sheet_name)\n",
    "    df = df.query(\"Vsd > 0\")\n",
    "    if silent:\n",
    "        return df['Vsd'], df['Current']\n",
    "\n",
    "    if axs == None:\n",
    "        axs = plt.axes()\n",
    "\n",
    "    axs.plot(df['Vsd'], df['Current'])\n",
    "    axs.set_xlabel(\"Voltage\")\n",
    "    axs.set_ylabel(\"Current\")\n",
    "    axs.set_title(\"Voltage-Current curve for {}\".format(sheet_name))\n",
    "    return df['Vsd'], df['Current']\n",
    "\n",
    "voltages, currents = plot_IV_curve_simple(\"KR2B9IVcurv1.xlsx\", sheet_name=\"H_R1B9_IVcurve_4\", silent = True)\n",
    "\n",
    "def fit_fun(x, a, b, c, d):\n",
    "    return a*x**4 + b*x**3 + c*x**2 + d*x\n",
    "\n",
    "### Poly interp to get conductance as func of voltage\n",
    "p, _ = curve_fit(fit_fun, voltages, currents)\n",
    "p = list(p) + [0]\n",
    "outputs = np.polyval(p,voltages)\n",
    "\n",
    "derivs = np.polyder(p)\n",
    "deriv_outputs = np.polyval(derivs, voltages)\n",
    "\n",
    "fig, axs = plt.subplots(2, figsize=(10,6))\n",
    "axs[0].set_title(\"R1B9 IV Curves\")\n",
    "axs[1].set_xlabel(\"Voltage\")\n",
    "axs[0].plot(voltages,currents,label=\"Observed\")\n",
    "axs[0].plot(voltages,outputs,label=\"Fitted\")\n",
    "axs[0].legend()\n",
    "axs[0].set_ylabel(\"Current\")\n",
    "\n",
    "axs[1].plot(voltages, deriv_outputs)\n",
    "axs[1].set_ylabel(\"Conductance\")"
   ],
   "metadata": {
    "collapsed": false,
    "pycharm": {
     "name": "#%%\n"
    }
   }
  },
  {
   "cell_type": "code",
   "execution_count": null,
   "outputs": [],
   "source": [],
   "metadata": {
    "collapsed": false,
    "pycharm": {
     "name": "#%%\n"
    }
   }
  }
 ],
 "metadata": {
  "kernelspec": {
   "display_name": "Python 3",
   "language": "python",
   "name": "python3"
  },
  "language_info": {
   "codemirror_mode": {
    "name": "ipython",
    "version": 2
   },
   "file_extension": ".py",
   "mimetype": "text/x-python",
   "name": "python",
   "nbconvert_exporter": "python",
   "pygments_lexer": "ipython2",
   "version": "2.7.6"
  }
 },
 "nbformat": 4,
 "nbformat_minor": 0
}