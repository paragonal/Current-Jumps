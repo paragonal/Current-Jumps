{
 "cells": [
  {
   "cell_type": "code",
   "execution_count": 59,
   "metadata": {
    "collapsed": true
   },
   "outputs": [
    {
     "name": "stdout",
     "output_type": "stream",
     "text": [
      "Generating pairs\n"
     ]
    },
    {
     "name": "stderr",
     "output_type": "stream",
     "text": [
      "100%|██████████| 499/499 [00:00<00:00, 10646.47it/s]\n"
     ]
    },
    {
     "name": "stdout",
     "output_type": "stream",
     "text": [
      "Evaluating pairs\n"
     ]
    },
    {
     "name": "stderr",
     "output_type": "stream",
     "text": [
      "100%|██████████| 125250/125250 [00:00<00:00, 724696.13it/s]\n",
      "C:\\Users\\sfska\\AppData\\Local\\Temp\\ipykernel_37348\\31826241.py:24: VisibleDeprecationWarning: Creating an ndarray from ragged nested sequences (which is a list-or-tuple of lists-or-tuples-or ndarrays with different lengths or shapes) is deprecated. If you meant to do this, you must specify 'dtype=object' when creating the ndarray.\n",
      "  ordered = np.array(ordered[:N_max])\n"
     ]
    },
    {
     "data": {
      "text/plain": "array([[0, (0, 0)],\n       [1, (1, 0)],\n       [2, (1, 1)],\n       ...,\n       [25105, (151, 48)],\n       [25106, (115, 109)],\n       [25108, (158, 12)]], dtype=object)"
     },
     "execution_count": 59,
     "metadata": {},
     "output_type": "execute_result"
    }
   ],
   "source": [
    "import numpy as np\n",
    "import matplotlib.pyplot as plt\n",
    "from math import *\n",
    "from tqdm import tqdm\n",
    "\n",
    "pairs = []\n",
    "N_max = 10000\n",
    "J_max = 500\n",
    "spin_degeneracy = 1\n",
    "graph_degeneracy = 4\n",
    "\n",
    "N_max = min(N_max, (J_max-1)**2)\n",
    "print(\"Generating pairs\")\n",
    "\n",
    "for i in tqdm(range(1,J_max)):\n",
    "    for j in range(i+1):\n",
    "        pairs.append((i,j))\n",
    "pairs.append((0,0))\n",
    "\n",
    "print(\"Evaluating pairs\")\n",
    "vals = [p[0]**2 + p[1]**2 for p in tqdm(pairs)]\n",
    "ordered = list(zip(vals, pairs))\n",
    "ordered.sort()\n",
    "ordered = np.array(ordered[:N_max])\n",
    "ordered"
   ]
  },
  {
   "cell_type": "code",
   "execution_count": 58,
   "outputs": [
    {
     "data": {
      "text/plain": "<Figure size 432x288 with 1 Axes>",
      "image/png": "[encoded data removed]"
     },
     "metadata": {
      "needs_background": "light"
     },
     "output_type": "display_data"
    }
   ],
   "source": [
    "raw_values = [o for o in ordered[:,0]]\n",
    "diffs = [raw_values[i+1] - raw_values[i] for i in range(len(raw_values)-1)]\n",
    "domain = np.array([i for i in range(len(diffs))], dtype=float)\n",
    "\n",
    "\n",
    "# m = -.5\n",
    "# b = -.3\n",
    "# division_line = lambda x, m=m, b=b: 10**b * np.power(x,m)\n",
    "\n",
    "# plt.figure(figsize=(10,6))\n",
    "\n",
    "# plt.scatter(domain, division_line(domain), s=2)\n",
    "plt.scatter(domain, diffs, s = 2)\n",
    "# plt.xscale('log')\n",
    "# plt.yscale('log')\n",
    "plt.show()\n",
    "# ordered"
   ],
   "metadata": {
    "collapsed": false,
    "pycharm": {
     "name": "#%%\n"
    }
   }
  }
 ],
 "metadata": {
  "kernelspec": {
   "display_name": "Python 3",
   "language": "python",
   "name": "python3"
  },
  "language_info": {
   "codemirror_mode": {
    "name": "ipython",
    "version": 2
   },
   "file_extension": ".py",
   "mimetype": "text/x-python",
   "name": "python",
   "nbconvert_exporter": "python",
   "pygments_lexer": "ipython2",
   "version": "2.7.6"
  }
 },
 "nbformat": 4,
 "nbformat_minor": 0
}